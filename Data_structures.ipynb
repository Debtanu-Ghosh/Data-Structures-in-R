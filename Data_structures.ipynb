{
  "nbformat": 4,
  "nbformat_minor": 0,
  "metadata": {
    "colab": {
      "provenance": [],
      "toc_visible": true,
      "collapsed_sections": [
        "KLS2aBHJ0mll",
        "4avLZLy82T4a",
        "0oF98AicahkE",
        "0HYmNxZS3YMh",
        "waN7fjDCT_Hb",
        "SzsFesFyfC-N"
      ],
      "authorship_tag": "ABX9TyMzg0NIdjX6299g+ZpDctb5"
    },
    "kernelspec": {
      "name": "ir",
      "display_name": "R"
    },
    "language_info": {
      "name": "R"
    }
  },
  "cells": [
    {
      "cell_type": "markdown",
      "source": [
        "### Vectors\n"
      ],
      "metadata": {
        "id": "KLS2aBHJ0mll"
      }
    },
    {
      "cell_type": "markdown",
      "source": [
        "A vector is an ordered collection of basic data types of a given length. The only key thing here all elements are same type i.e homogenous. Vectors are 1d data structure."
      ],
      "metadata": {
        "id": "VCucNXSFV3-u"
      }
    },
    {
      "cell_type": "code",
      "execution_count": null,
      "metadata": {
        "colab": {
          "base_uri": "https://localhost:8080/"
        },
        "id": "7B_gBfI70UVg",
        "outputId": "858af5af-ba1a-4765-d6c1-857b17930515"
      },
      "outputs": [
        {
          "output_type": "stream",
          "name": "stdout",
          "text": [
            "[1] 1 2 3 4 5 6 7 8 9\n",
            "[1] \"A\" \"B\" \"C\" \"D\"\n",
            "[1]  TRUE FALSE\n",
            "[1] 2+1i 3+2i 0+1i\n"
          ]
        }
      ],
      "source": [
        "#creating vector\n",
        "x <- c(1:9)\n",
        "ch <- c('A','B','C','D')\n",
        "logic <- c(TRUE,FALSE)\n",
        "comp <- c(2+1i,3+2i,1i)\n",
        "print(x)\n",
        "print(ch)\n",
        "print(logic)\n",
        "print(comp)"
      ]
    },
    {
      "cell_type": "code",
      "source": [
        "#2nd element of all vectors\n",
        "print(x[2])\n",
        "print(ch[2])\n",
        "print(logic[2])\n",
        "print(comp[2])"
      ],
      "metadata": {
        "colab": {
          "base_uri": "https://localhost:8080/"
        },
        "id": "CrhVAQGMTpag",
        "outputId": "949d1327-40c9-4710-b1ae-9db0f8436bfd"
      },
      "execution_count": null,
      "outputs": [
        {
          "output_type": "stream",
          "name": "stdout",
          "text": [
            "[1] 2\n",
            "[1] \"B\"\n",
            "[1] FALSE\n",
            "[1] 3+2i\n"
          ]
        }
      ]
    },
    {
      "cell_type": "markdown",
      "source": [
        "### Matrix"
      ],
      "metadata": {
        "id": "4avLZLy82T4a"
      }
    },
    {
      "cell_type": "markdown",
      "source": [
        "A matrix is a rectangle arrangemet of numbers in rows and columns. Matrices are 2d homogeneous data structures."
      ],
      "metadata": {
        "id": "Iuj1YJ8FZZDS"
      }
    },
    {
      "cell_type": "code",
      "source": [
        "m = matrix(1:20,nrow = 4,byrow = TRUE)\n",
        "print(m)"
      ],
      "metadata": {
        "colab": {
          "base_uri": "https://localhost:8080/"
        },
        "id": "tcFgDBtl2Z5D",
        "outputId": "d3fe7539-eae1-4d68-9c4c-473d855d4caa"
      },
      "execution_count": null,
      "outputs": [
        {
          "output_type": "stream",
          "name": "stdout",
          "text": [
            "     [,1] [,2] [,3] [,4] [,5]\n",
            "[1,]    1    2    3    4    5\n",
            "[2,]    6    7    8    9   10\n",
            "[3,]   11   12   13   14   15\n",
            "[4,]   16   17   18   19   20\n"
          ]
        }
      ]
    },
    {
      "cell_type": "code",
      "source": [
        "#Finding (2,5) possion in the matrix\n",
        "m[2,5]"
      ],
      "metadata": {
        "colab": {
          "base_uri": "https://localhost:8080/",
          "height": 34
        },
        "id": "6W6fzoev2uRO",
        "outputId": "7d6c7bd3-58ce-4769-9003-239dfc8d83bd"
      },
      "execution_count": null,
      "outputs": [
        {
          "output_type": "display_data",
          "data": {
            "text/html": [
              "10"
            ],
            "text/markdown": "10",
            "text/latex": "10",
            "text/plain": [
              "[1] 10"
            ]
          },
          "metadata": {}
        }
      ]
    },
    {
      "cell_type": "code",
      "source": [
        "#Printing the 3rd row\n",
        "print(m[3,])"
      ],
      "metadata": {
        "colab": {
          "base_uri": "https://localhost:8080/"
        },
        "id": "Hs08qyRq3Ai8",
        "outputId": "54f59c06-6837-4c30-bcdf-f91c472361c9"
      },
      "execution_count": null,
      "outputs": [
        {
          "output_type": "stream",
          "name": "stdout",
          "text": [
            "[1] 11 12 13 14 15\n"
          ]
        }
      ]
    },
    {
      "cell_type": "code",
      "source": [
        "#Printing the 4th col\n",
        "print(m[,4])"
      ],
      "metadata": {
        "colab": {
          "base_uri": "https://localhost:8080/"
        },
        "id": "iA33n3fy3Mjr",
        "outputId": "3d6b94da-46da-4606-f33a-93c37c9c752a"
      },
      "execution_count": null,
      "outputs": [
        {
          "output_type": "stream",
          "name": "stdout",
          "text": [
            "[1]  4  9 14 19\n"
          ]
        }
      ]
    },
    {
      "cell_type": "markdown",
      "source": [
        "###List"
      ],
      "metadata": {
        "id": "0oF98AicahkE"
      }
    },
    {
      "cell_type": "markdown",
      "source": [
        "A list is a generic object consisting of an ordered collection of objects. List are heterogeneous data structures. It is also a 1d data structures and it can be a list of vector , list of matrices , list of characters etc."
      ],
      "metadata": {
        "id": "u1_OIb34apB_"
      }
    },
    {
      "cell_type": "code",
      "source": [
        "x = c(1:5)\n",
        "y = c('01','02','03','04')\n",
        "z = 10\n",
        "creating_list = list(x,y,z)\n",
        "print(creating_list)"
      ],
      "metadata": {
        "colab": {
          "base_uri": "https://localhost:8080/"
        },
        "id": "5wwW2borbRZz",
        "outputId": "4728e388-6192-49fe-e119-bf630fbdd6b7"
      },
      "execution_count": null,
      "outputs": [
        {
          "output_type": "stream",
          "name": "stdout",
          "text": [
            "[[1]]\n",
            "[1] 1 2 3 4 5\n",
            "\n",
            "[[2]]\n",
            "[1] \"01\" \"02\" \"03\" \"04\"\n",
            "\n",
            "[[3]]\n",
            "[1] 10\n",
            "\n"
          ]
        }
      ]
    },
    {
      "cell_type": "code",
      "source": [
        "#accessing 2 in x\n",
        "creating_list[[1]][2]"
      ],
      "metadata": {
        "colab": {
          "base_uri": "https://localhost:8080/",
          "height": 34
        },
        "id": "I4wiGc1Vb5bg",
        "outputId": "10acff7f-5f7f-4ab4-8312-7ccefad5c712"
      },
      "execution_count": null,
      "outputs": [
        {
          "output_type": "display_data",
          "data": {
            "text/html": [
              "2"
            ],
            "text/markdown": "2",
            "text/latex": "2",
            "text/plain": [
              "[1] 2"
            ]
          },
          "metadata": {}
        }
      ]
    },
    {
      "cell_type": "code",
      "source": [
        "#accessing y\n",
        "print(creating_list[[2]])"
      ],
      "metadata": {
        "colab": {
          "base_uri": "https://localhost:8080/"
        },
        "id": "8dGIE3NFdLlP",
        "outputId": "1c8ac947-b995-4597-f5d3-d0c8836c02eb"
      },
      "execution_count": null,
      "outputs": [
        {
          "output_type": "stream",
          "name": "stdout",
          "text": [
            "[1] \"01\" \"02\" \"03\" \"04\"\n"
          ]
        }
      ]
    },
    {
      "cell_type": "markdown",
      "source": [
        "### Array"
      ],
      "metadata": {
        "id": "0HYmNxZS3YMh"
      }
    },
    {
      "cell_type": "markdown",
      "source": [
        "Arrays are the R data objects which store the data in more than 2d. Arrays are n-dim data structures."
      ],
      "metadata": {
        "id": "0D2o9cKUZ5qN"
      }
    },
    {
      "cell_type": "code",
      "source": [
        "dim1 = c('1st','2nd')\n",
        "dim2 = c('ob1','ob2')\n",
        "dim3 = c('IN','DI','A')\n",
        "arr = array(c(1.5:12.5),c(2,2,3),dimnames = list(dim1,dim2,dim3))\n",
        "print(arr)"
      ],
      "metadata": {
        "colab": {
          "base_uri": "https://localhost:8080/"
        },
        "id": "GH061Nrr3dHl",
        "outputId": "993d4fc0-aa2c-4fef-a8af-902f924257f6"
      },
      "execution_count": null,
      "outputs": [
        {
          "output_type": "stream",
          "name": "stdout",
          "text": [
            ", , IN\n",
            "\n",
            "    ob1 ob2\n",
            "1st 1.5 3.5\n",
            "2nd 2.5 4.5\n",
            "\n",
            ", , DI\n",
            "\n",
            "    ob1 ob2\n",
            "1st 5.5 7.5\n",
            "2nd 6.5 8.5\n",
            "\n",
            ", , A\n",
            "\n",
            "     ob1  ob2\n",
            "1st  9.5 11.5\n",
            "2nd 10.5 12.5\n",
            "\n"
          ]
        }
      ]
    },
    {
      "cell_type": "code",
      "source": [
        "#printing from di 2nd ob2\n",
        "arr[2,2,2]"
      ],
      "metadata": {
        "colab": {
          "base_uri": "https://localhost:8080/",
          "height": 34
        },
        "id": "khCf4YZBOv3k",
        "outputId": "3723948b-7222-41c8-ab3f-879060aa1b58"
      },
      "execution_count": null,
      "outputs": [
        {
          "output_type": "display_data",
          "data": {
            "text/html": [
              "8.5"
            ],
            "text/markdown": "8.5",
            "text/latex": "8.5",
            "text/plain": [
              "[1] 8.5"
            ]
          },
          "metadata": {}
        }
      ]
    },
    {
      "cell_type": "code",
      "source": [
        "#printing matrix\n",
        "print('matrix DI')\n",
        "print(arr[,,'DI'])"
      ],
      "metadata": {
        "colab": {
          "base_uri": "https://localhost:8080/"
        },
        "id": "Zgdk0IX5PGeI",
        "outputId": "333c34ca-7a54-4a6a-d815-850a523cb984"
      },
      "execution_count": null,
      "outputs": [
        {
          "output_type": "stream",
          "name": "stdout",
          "text": [
            "[1] \"matrix DI\"\n",
            "    ob1 ob2\n",
            "1st 5.5 7.5\n",
            "2nd 6.5 8.5\n"
          ]
        }
      ]
    },
    {
      "cell_type": "code",
      "source": [
        "#alter method\n",
        "print('matrix DI ')\n",
        "print(arr[,,2])"
      ],
      "metadata": {
        "colab": {
          "base_uri": "https://localhost:8080/"
        },
        "id": "w-n-j-azR7gr",
        "outputId": "ec0c8418-2bc0-445a-beac-4694bc8014d1"
      },
      "execution_count": null,
      "outputs": [
        {
          "output_type": "stream",
          "name": "stdout",
          "text": [
            "[1] \"matrix DI \"\n",
            "    ob1 ob2\n",
            "1st 5.5 7.5\n",
            "2nd 6.5 8.5\n"
          ]
        }
      ]
    },
    {
      "cell_type": "code",
      "source": [
        "#printing row\n",
        "print('matrix DI 1st row')\n",
        "print(arr['1st',,'DI'])"
      ],
      "metadata": {
        "colab": {
          "base_uri": "https://localhost:8080/"
        },
        "id": "IY-DWiriSQDT",
        "outputId": "6a929959-036e-4515-e34f-adc7f1b6da42"
      },
      "execution_count": null,
      "outputs": [
        {
          "output_type": "stream",
          "name": "stdout",
          "text": [
            "[1] \"matrix DI 1st row\"\n",
            "ob1 ob2 \n",
            "5.5 7.5 \n"
          ]
        }
      ]
    },
    {
      "cell_type": "code",
      "source": [
        "#alter method\n",
        "print('matrix DI 1st row')\n",
        "print(arr[1,,2])"
      ],
      "metadata": {
        "colab": {
          "base_uri": "https://localhost:8080/"
        },
        "id": "XQCUIHQKSgzW",
        "outputId": "00a4b655-fe50-4f34-d2c9-2d3b2ca041d2"
      },
      "execution_count": null,
      "outputs": [
        {
          "output_type": "stream",
          "name": "stdout",
          "text": [
            "[1] \"matrix DI 1st row\"\n",
            "ob1 ob2 \n",
            "5.5 7.5 \n"
          ]
        }
      ]
    },
    {
      "cell_type": "code",
      "source": [
        "#for col\n",
        "print('matrix A col2')\n",
        "print(arr[,2,3])"
      ],
      "metadata": {
        "colab": {
          "base_uri": "https://localhost:8080/"
        },
        "id": "DdAptKy0Swjs",
        "outputId": "f9989d73-38a8-43a2-f64e-0708d8c79b9d"
      },
      "execution_count": null,
      "outputs": [
        {
          "output_type": "stream",
          "name": "stdout",
          "text": [
            "[1] \"matrix A col2\"\n",
            " 1st  2nd \n",
            "11.5 12.5 \n"
          ]
        }
      ]
    },
    {
      "cell_type": "code",
      "source": [
        "#1st row of all matrix\n",
        "print(arr[1,,])"
      ],
      "metadata": {
        "colab": {
          "base_uri": "https://localhost:8080/"
        },
        "id": "fWKK05qrS-O6",
        "outputId": "3adce15b-7510-4756-d788-0d7092a57f7b"
      },
      "execution_count": null,
      "outputs": [
        {
          "output_type": "stream",
          "name": "stdout",
          "text": [
            "     IN  DI    A\n",
            "ob1 1.5 5.5  9.5\n",
            "ob2 3.5 7.5 11.5\n"
          ]
        }
      ]
    },
    {
      "cell_type": "code",
      "source": [
        "#1st col of all matrix\n",
        "print(arr[,1,])"
      ],
      "metadata": {
        "colab": {
          "base_uri": "https://localhost:8080/"
        },
        "id": "kXhH7vatTLIn",
        "outputId": "55d5b8be-e857-422b-d3dc-da6fa8dab03b"
      },
      "execution_count": null,
      "outputs": [
        {
          "output_type": "stream",
          "name": "stdout",
          "text": [
            "     IN  DI    A\n",
            "1st 1.5 5.5  9.5\n",
            "2nd 2.5 6.5 10.5\n"
          ]
        }
      ]
    },
    {
      "cell_type": "markdown",
      "source": [
        "###Data frame"
      ],
      "metadata": {
        "id": "waN7fjDCT_Hb"
      }
    },
    {
      "cell_type": "markdown",
      "source": [
        "Data frame are generic data objects in R which are store tabular data.\n",
        "They are 2d , hetrogeneous data structures."
      ],
      "metadata": {
        "id": "pApmO7lNd11V"
      }
    },
    {
      "cell_type": "code",
      "source": [
        "Roll = c('01','02','03','04','05','06','07','08','09','10')\n",
        "Gender = c('M','M','M','M','M','F','M','M','M','M')\n",
        "Degree = c('Btech','Msc','Msc','Btech','Btech','Msc','Btech','Msc','Btech','Btech')\n",
        "Exp = c(\"no\",\"no\",\"no\",\"no\",\"no\",\"no\",\"yes\",\"no\",\"no\",\"yes\")\n",
        "CA =c(12,13,14,12,14,12,13,14,15,15)\n",
        "\n",
        "mtech_or = data.frame(Roll,Gender,Degree,Exp,CA)\n",
        "print(mtech_or)"
      ],
      "metadata": {
        "colab": {
          "base_uri": "https://localhost:8080/"
        },
        "id": "yP1XQY77UEao",
        "outputId": "cfbdc981-3b9e-4b5d-e67a-539f01ff55f0"
      },
      "execution_count": null,
      "outputs": [
        {
          "output_type": "stream",
          "name": "stdout",
          "text": [
            "   Roll Gender Degree Exp CA\n",
            "1    01      M  Btech  no 12\n",
            "2    02      M    Msc  no 13\n",
            "3    03      M    Msc  no 14\n",
            "4    04      M  Btech  no 12\n",
            "5    05      M  Btech  no 14\n",
            "6    06      F    Msc  no 12\n",
            "7    07      M  Btech yes 13\n",
            "8    08      M    Msc  no 14\n",
            "9    09      M  Btech  no 15\n",
            "10   10      M  Btech yes 15\n"
          ]
        }
      ]
    },
    {
      "cell_type": "code",
      "source": [
        "#printing a pertcular roll data\n",
        "print(mtech_or[5,])"
      ],
      "metadata": {
        "colab": {
          "base_uri": "https://localhost:8080/"
        },
        "id": "4j_hH0vzX10X",
        "outputId": "973d5ad8-a55e-4367-f358-a9b36516d094"
      },
      "execution_count": null,
      "outputs": [
        {
          "output_type": "stream",
          "name": "stdout",
          "text": [
            "  Roll Gender Degree Exp CA\n",
            "5   05      M  Btech  no 14\n"
          ]
        }
      ]
    },
    {
      "cell_type": "code",
      "source": [
        "#printing 3 perticular row\n",
        "print(mtech_or[c(2,3,4),])"
      ],
      "metadata": {
        "colab": {
          "base_uri": "https://localhost:8080/"
        },
        "id": "NhIPo7n4ZA_B",
        "outputId": "ba32d69c-1539-43d0-ec7a-196f0f462713"
      },
      "execution_count": null,
      "outputs": [
        {
          "output_type": "stream",
          "name": "stdout",
          "text": [
            "  Roll Gender Degree Exp CA\n",
            "2   02      M    Msc  no 13\n",
            "3   03      M    Msc  no 14\n",
            "4   04      M  Btech  no 12\n"
          ]
        }
      ]
    },
    {
      "cell_type": "code",
      "source": [
        "#frequency table\n",
        "table1 = table(mtech_or$Gender,mtech_or$Degree)\n",
        "print(table1)"
      ],
      "metadata": {
        "colab": {
          "base_uri": "https://localhost:8080/"
        },
        "id": "lYzSOFh3ZqVe",
        "outputId": "9b27cc27-0e67-4ef0-c6f4-317ec46f0bb9"
      },
      "execution_count": null,
      "outputs": [
        {
          "output_type": "stream",
          "name": "stdout",
          "text": [
            "   \n",
            "    Btech Msc\n",
            "  F     0   1\n",
            "  M     6   3\n"
          ]
        }
      ]
    },
    {
      "cell_type": "code",
      "source": [
        "summary(mtech_or)"
      ],
      "metadata": {
        "colab": {
          "base_uri": "https://localhost:8080/",
          "height": 260
        },
        "id": "MIFOiXgOaE2b",
        "outputId": "44d4f503-18c4-4958-e50c-047bf5ea3838"
      },
      "execution_count": null,
      "outputs": [
        {
          "output_type": "display_data",
          "data": {
            "text/plain": [
              "     Roll              Gender             Degree              Exp           \n",
              " Length:10          Length:10          Length:10          Length:10         \n",
              " Class :character   Class :character   Class :character   Class :character  \n",
              " Mode  :character   Mode  :character   Mode  :character   Mode  :character  \n",
              "                                                                            \n",
              "                                                                            \n",
              "                                                                            \n",
              "       CA       \n",
              " Min.   :12.00  \n",
              " 1st Qu.:12.25  \n",
              " Median :13.50  \n",
              " Mean   :13.40  \n",
              " 3rd Qu.:14.00  \n",
              " Max.   :15.00  "
            ]
          },
          "metadata": {}
        }
      ]
    },
    {
      "cell_type": "markdown",
      "source": [
        "### Factors"
      ],
      "metadata": {
        "id": "SzsFesFyfC-N"
      }
    },
    {
      "cell_type": "markdown",
      "source": [
        "Factors are the data objects which are used to categorize data and store it as levels. They are useful in case of storing categorical data. They are useful to categorize unique values in columns like 'TRUE' or 'FALSE', or 'MALE' or 'FEMALE' etc. Useful for data analysis."
      ],
      "metadata": {
        "id": "8O33Drd4fIBx"
      }
    },
    {
      "cell_type": "code",
      "source": [
        "fac = factor(c('F','M','M','F','M','F','M','M','M','F'))\n",
        "print(fac)"
      ],
      "metadata": {
        "colab": {
          "base_uri": "https://localhost:8080/"
        },
        "id": "PeybSAgzgH-4",
        "outputId": "f0de862f-9960-48a4-d898-d884103dc8ba"
      },
      "execution_count": null,
      "outputs": [
        {
          "output_type": "stream",
          "name": "stdout",
          "text": [
            " [1] F M M F M F M M M F\n",
            "Levels: F M\n"
          ]
        }
      ]
    },
    {
      "cell_type": "code",
      "source": [
        "class(fac)"
      ],
      "metadata": {
        "colab": {
          "base_uri": "https://localhost:8080/",
          "height": 34
        },
        "id": "4oHiPoUGg-PB",
        "outputId": "622fcd82-4a3f-414b-a869-692e0411ac13"
      },
      "execution_count": null,
      "outputs": [
        {
          "output_type": "display_data",
          "data": {
            "text/html": [
              "'factor'"
            ],
            "text/markdown": "'factor'",
            "text/latex": "'factor'",
            "text/plain": [
              "[1] \"factor\""
            ]
          },
          "metadata": {}
        }
      ]
    },
    {
      "cell_type": "code",
      "source": [
        "#accessing 1 to 5\n",
        "print(fac[1:5])"
      ],
      "metadata": {
        "colab": {
          "base_uri": "https://localhost:8080/"
        },
        "id": "A1tMESx3hBn_",
        "outputId": "aa05c608-92bc-4b2d-c1ae-bb468f862929"
      },
      "execution_count": null,
      "outputs": [
        {
          "output_type": "stream",
          "name": "stdout",
          "text": [
            "[1] F M M F M\n",
            "Levels: F M\n"
          ]
        }
      ]
    },
    {
      "cell_type": "code",
      "source": [
        "salaryinL = c(25:34)\n",
        "gender = c('F','M','M','F','M','F','M','M','M','F')\n",
        "\n",
        "df = data.frame(salaryinL,gender)\n",
        "print(df)\n",
        "print(is.factor(df$gender))"
      ],
      "metadata": {
        "colab": {
          "base_uri": "https://localhost:8080/"
        },
        "id": "oJlwL9brhPTL",
        "outputId": "196972b9-4f58-41df-f156-e89390302255"
      },
      "execution_count": null,
      "outputs": [
        {
          "output_type": "stream",
          "name": "stdout",
          "text": [
            "   salaryinL gender\n",
            "1         25      F\n",
            "2         26      M\n",
            "3         27      M\n",
            "4         28      F\n",
            "5         29      M\n",
            "6         30      F\n",
            "7         31      M\n",
            "8         32      M\n",
            "9         33      M\n",
            "10        34      F\n",
            "[1] FALSE\n"
          ]
        }
      ]
    }
  ]
}